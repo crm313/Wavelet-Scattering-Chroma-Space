{
 "cells": [
  {
   "cell_type": "code",
   "execution_count": 1,
   "metadata": {
    "collapsed": true
   },
   "outputs": [],
   "source": [
    "from __future__ import print_function\n",
    "from future.utils import iteritems\n",
    "import json\n",
    "import numpy as np\n",
    "import os\n",
    "import argparse\n",
    "import sys\n",
    "from sklearn.metrics import confusion_matrix\n",
    "\n",
    "import mir_eval"
   ]
  },
  {
   "cell_type": "code",
   "execution_count": 12,
   "metadata": {
    "collapsed": true
   },
   "outputs": [],
   "source": [
    "f = open('./evaluation/filelist.txt')\n",
    "filelist = f.readlines()\n",
    "f.close()\n",
    "estDir = '/Users/chrismiller/Desktop/Work/NYU-MIR/tmc-ace/matlab/results/'"
   ]
  },
  {
   "cell_type": "code",
   "execution_count": 14,
   "metadata": {
    "collapsed": false
   },
   "outputs": [],
   "source": [
    "# counter for mirex_scores array\n",
    "counter = 0;\n",
    "mirex_scores = []\n",
    "\n",
    "# loop through tracks\n",
    "for track in filelist:\n",
    "    # parse filelist, finding reference annotations and estimated results\n",
    "    track = track.strip()\n",
    "    (refDir, refFile) = os.path.split(track)\n",
    "    (name, ext) = os.path.splitext(refFile)\n",
    "    referenceFilename = refDir + '/' + name + '.lab'\n",
    "    estimatedFilename = estDir + name + '.wav.txt'\n",
    "    ref_starts, ref_ends, ref_labels = mir_eval.io.load_delimited(referenceFilename, [float, float, str], r'\\s+')\n",
    "    est_starts, est_ends, est_labels = mir_eval.io.load_delimited(estimatedFilename, [float, float, str], r'\\s+')\n",
    "    # filter by chordType\n",
    "    filtered_ref_starts = []\n",
    "    filtered_ref_ends = []\n",
    "    filtered_est_starts = []\n",
    "    filtered_est_ends = []\n",
    "    filtered_ref_labels = []\n",
    "    filtered_est_labels = []\n",
    "    for i in range(len(ref_labels)):\n",
    "        currentChordQuality = mir_eval.chord.split(ref_labels[i])[1]\n",
    "        if currentChordQuality == chordType:\n",
    "            filtered_ref_starts.append(ref_starts[i])\n",
    "            filtered_ref_ends.append(ref_ends[i])\n",
    "            filtered_ref_labels.append(ref_labels[i])\n",
    "    for i in range(len(est_labels)):\n",
    "        currentChordQuality = mir_eval.chord.split(est_labels[i])[1]\n",
    "        if currentChordQuality == chordType:\n",
    "            filtered_est_starts.append(est_starts[i])\n",
    "            filtered_est_ends.append(est_ends[i])\n",
    "            filtered_est_labels.append(est_labels[i])\n",
    "    # assemble interval labels from starts and ends\n",
    "    filtered_ref_idx = np.array([filtered_ref_starts, filtered_ref_ends]).T\n",
    "    filtered_est_idx = np.array([filtered_est_starts, filtered_est_ends]).T\n",
    "    # Validate filtered intervals, and throw a warning in place of an error\n",
    "    try:\n",
    "        mir_eval.util.validate_intervals(filtered_ref_idx)\n",
    "        mir_eval.util.validate_intervals(filtered_est_idx)\n",
    "    except ValueError as error:\n",
    "        warnings.warn(error.args[0]) \n",
    "    # compute scores and grab mirex for averaging\n",
    "    scores = mir_eval.chord.evaluate(filtered_ref_idx, filtered_ref_labels, filtered_est_idx, filtered_est_labels)\n",
    "    mirex_scores.append(scores['mirex'])\n",
    "    counter += 1"
   ]
  },
  {
   "cell_type": "code",
   "execution_count": 16,
   "metadata": {
    "collapsed": false
   },
   "outputs": [],
   "source": [
    "track = filelist[0]\n",
    "track = track.strip()\n",
    "(refDir, refFile) = os.path.split(track)\n",
    "(name, ext) = os.path.splitext(refFile)\n",
    "referenceFilename = refDir + '/' + name + '.lab'\n",
    "estimatedFilename = estDir + name + '.wav.txt'\n",
    "# str(referenceFilename)\n",
    "# str(estimatedFilename)\n",
    "\n",
    "# (ref_idx, ref_labels) = mir_eval.io.load_labeled_intervals(referenceFilename)\n",
    "# (est_idx, est_labels) = mir_eval.io.load_labeled_intervals(estimatedFilename)\n",
    "ref_starts, ref_ends, ref_labels = mir_eval.io.load_delimited(referenceFilename, [float, float, str], r'\\s+')\n",
    "est_starts, est_ends, est_labels = mir_eval.io.load_delimited(estimatedFilename, [float, float, str], r'\\s+')"
   ]
  },
  {
   "cell_type": "code",
   "execution_count": 13,
   "metadata": {
    "collapsed": false
   },
   "outputs": [
    {
     "data": {
      "text/plain": [
       "['N',\n",
       " 'F:maj',\n",
       " 'G:7',\n",
       " 'G:sus4',\n",
       " 'C:maj',\n",
       " 'D:7',\n",
       " 'C:maj',\n",
       " 'F:sus2',\n",
       " 'F:maj',\n",
       " 'C:min',\n",
       " 'G:min7',\n",
       " 'C:7',\n",
       " 'C:sus4',\n",
       " 'F:sus4',\n",
       " 'F:maj',\n",
       " 'C:maj',\n",
       " 'C:7',\n",
       " 'A:min7',\n",
       " 'C:sus4',\n",
       " 'C:maj',\n",
       " 'C:sus4',\n",
       " 'C:maj',\n",
       " 'C:min',\n",
       " 'Bb:maj',\n",
       " 'C:sus4',\n",
       " 'C:maj',\n",
       " 'C:sus4',\n",
       " 'C:min',\n",
       " 'N']"
      ]
     },
     "execution_count": 13,
     "metadata": {},
     "output_type": "execute_result"
    }
   ],
   "source": [
    "est_labels"
   ]
  },
  {
   "cell_type": "code",
   "execution_count": null,
   "metadata": {
    "collapsed": true
   },
   "outputs": [],
   "source": [
    "# filter by chordType\n",
    "filtered_ref_starts = []\n",
    "filtered_ref_ends = []\n",
    "filtered_est_starts = []\n",
    "filtered_est_ends = []\n",
    "filtered_ref_labels = []\n",
    "filtered_est_labels = []\n",
    "\n",
    "for i in range(len(ref_labels)):\n",
    "    currentChordQuality = mir_eval.chord.split(ref_labels[i])[1]\n",
    "    if currentChordQuality == chordType:\n",
    "        filtered_ref_starts.append(ref_starts[i])\n",
    "        filtered_ref_ends.append(ref_ends[i])\n",
    "        filtered_ref_labels.append(ref_labels[i])\n",
    "\n",
    "for i in range(len(est_labels)):\n",
    "    currentChordQuality = mir_eval.chord.split(est_labels[i])[1]\n",
    "    if currentChordQuality == chordType:\n",
    "        filtered_est_starts.append(est_starts[i])\n",
    "        filtered_est_ends.append(est_ends[i])\n",
    "        filtered_est_labels.append(est_labels[i])\n",
    "\n",
    "# assemble interval labels from starts and ends\n",
    "filtered_ref_idx = np.array([filtered_ref_starts, filtered_ref_ends]).T\n",
    "filtered_est_idx = np.array([filtered_est_starts, filtered_est_ends]).T\n",
    "\n",
    "# Validate filtered intervals, and throw a warning in place of an error\n",
    "try:\n",
    "    mir_eval.util.validate_intervals(filtered_ref_idx)\n",
    "    mir_eval.util.validate_intervals(filtered_est_idx)\n",
    "except ValueError as error:\n",
    "    warnings.warn(error.args[0])\n",
    "        \n",
    "# compute scores and grab mirex for averaging\n",
    "scores = mir_eval.chord.evaluate(filtered_ref_idx, filtered_ref_labels, filtered_est_idx, filtered_est_labels)\n",
    "mirex_scores[i] = scores['mirex']\n",
    "i += 1"
   ]
  },
  {
   "cell_type": "code",
   "execution_count": null,
   "metadata": {
    "collapsed": true
   },
   "outputs": [],
   "source": [
    "e_int, e_lbl = mir_eval.util.adjust_intervals(filtered_est_idx, filtered_est_labels, filtered_ref_idx.min(), filtered_ref_idx.max(),NO_CHORD, NO_CHORD)\n",
    "\n",
    "intervals, r_lbl, e_lbl = mir_eval.util.merge_labeled_intervals(filtered_ref_idx, filtered_ref_labels, filtered_est_idx, filtered_est_lables)"
   ]
  },
  {
   "cell_type": "code",
   "execution_count": null,
   "metadata": {
    "collapsed": true
   },
   "outputs": [],
   "source": [
    "# index for filtered chord scoring\n",
    "\n",
    "# assemble interval labels from starts and ends for entire track\n",
    "full_ref_idx = np.array([ref_starts, ref_ends]).T\n",
    "full_est_idx = np.array([est_starts, est_ends]).T\n",
    "\n",
    "e_int, e_lbl = mir_eval.util.adjust_intervals(full_est_idx, est_labels, full_ref_idx.min(), full_ref_idx.max(),'N', 'N')\n",
    "intervals, r_lbl, e_lbl = mir_eval.util.merge_labeled_intervals(ref_idx, ref_labels, e_int, e_lbl)\n",
    "\n",
    "# loop through reference arrays\n",
    "for i in range(len(r_lbl)):\n",
    "    currentChordQuality = mir_eval.chord.split(r_lbl[i])[1]\n",
    "    if currentChordQuality == chordType:\n",
    "        filtered_ref_starts.append(intervals[i,0])\n",
    "        filtered_ref_ends.append(intervals[i,1])\n",
    "        filtered_ref_labels.append(r_lbl[i])\n",
    "        filtered_est_labels.append(e_lbl[i])\n",
    "        i\n",
    "\n",
    "\n"
   ]
  },
  {
   "cell_type": "code",
   "execution_count": null,
   "metadata": {
    "collapsed": true
   },
   "outputs": [],
   "source": [
    "scores = {}\n",
    "mirex = []\n",
    "tetrads = []\n",
    "root = []\n",
    "for track in filelist:\n",
    "        # parse filelist, finding reference annotations and estimated results\n",
    "        track = track.strip()\n",
    "        (refDir, refFile) = os.path.split(track)\n",
    "        (name, ext) = os.path.splitext(refFile)\n",
    "        referenceFilename = refDir + '/' + name + '.lab'\n",
    "        estimatedFilename = estDir + name + '.wav.txt'\n",
    "        # load labels in reference/estimated files\n",
    "        (ref_idx, ref_labels) = mir_eval.io.load_labeled_intervals(referenceFilename)\n",
    "        (est_idx, est_labels) = mir_eval.io.load_labeled_intervals(estimatedFilename)\n",
    "        # compute scores \n",
    "        scores = mir_eval.chord.evaluate(ref_idx, ref_labels, est_idx, est_labels)\n",
    "        mirex.append(scores['mirex'])\n",
    "        tetrads.append(scores['tetrads'])\n",
    "        root.append(scores['root'])"
   ]
  },
  {
   "cell_type": "code",
   "execution_count": null,
   "metadata": {
    "collapsed": true
   },
   "outputs": [],
   "source": [
    "# parse filelist, finding reference annotations and estimated results\n",
    "track = track.strip()\n",
    "(refDir, refFile) = os.path.split(track)\n",
    "(name, ext) = os.path.splitext(refFile)\n",
    "referenceFilename = refDir + '/' + name + '.lab'\n",
    "estimatedFilename = estDir + name + ext + '.txt'\n",
    "\n",
    "# load starts, ends, and labels in reference/estimated files\n",
    "ref_starts, ref_ends, ref_labels = mir_eval.io.load_delimited(referenceFilename, [float, float, str], r'\\s+')\n",
    "est_starts, est_ends, est_labels = mir_eval.io.load_delimited(estimatedFilename, [float, float, str], r'\\s+')\n",
    "   \n",
    "# build index arrays over whole track and sync to reference\n",
    "full_ref_idx = np.array([ref_starts, ref_ends]).T\n",
    "full_est_idx = np.array([est_starts, est_ends]).T\n",
    "\n",
    "e_int, e_lbl = mir_eval.util.adjust_intervals(full_est_idx, est_labels, full_ref_idx.min(), full_ref_idx.max(),'N', 'N')\n",
    "intervals, r_lbl, e_lbl = mir_eval.util.merge_labeled_intervals(full_ref_idx, ref_labels, e_int, e_lbl)\n",
    "\n",
    "\n",
    "#########################################################\n",
    "# filter by chordType\n",
    "\n",
    "maj_ref_labels = []\n",
    "maj_est_labels = []\n",
    "min_ref_labels = []\n",
    "min_est_labels = []\n",
    "\n",
    "# loop through reference arrays\n",
    "for i in range(len(r_lbl)):\n",
    "    currentChordQuality = mir_eval.chord.split(r_lbl[i])[1]\n",
    "    if currentChordQuality == 'maj':\n",
    "        maj_ref_labels.append(mir_eval.chord.split(r_lbl[i])[1])\n",
    "        maj_est_labels.append(mir_eval.chord.split(e_lbl[i])[1])\n",
    "    if currentChordQuality == 'min':\n",
    "        min_ref_labels.append(mir_eval.chord.split(r_lbl[i])[1])\n",
    "        min_est_labels.append(mir_eval.chord.split(e_lbl[i])[1])\n"
   ]
  }
 ],
 "metadata": {
  "kernelspec": {
   "display_name": "Python 2",
   "language": "python",
   "name": "python2"
  },
  "language_info": {
   "codemirror_mode": {
    "name": "ipython",
    "version": 2
   },
   "file_extension": ".py",
   "mimetype": "text/x-python",
   "name": "python",
   "nbconvert_exporter": "python",
   "pygments_lexer": "ipython2",
   "version": "2.7.10"
  }
 },
 "nbformat": 4,
 "nbformat_minor": 0
}
